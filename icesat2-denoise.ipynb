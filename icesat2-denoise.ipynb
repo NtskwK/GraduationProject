{
 "cells": [
  {
   "cell_type": "code",
   "execution_count": 58,
   "metadata": {},
   "outputs": [],
   "source": [
    "import matplotlib.pyplot as plt\n",
    "import numpy as np\n",
    "import pandas as pd\n",
    "from pathlib import Path\n",
    "# from sklearn.cluster import OPTICS"
   ]
  },
  {
   "cell_type": "code",
   "execution_count": 59,
   "metadata": {},
   "outputs": [
    {
     "name": "stdout",
     "output_type": "stream",
     "text": [
      "Index(['Time (sec)', 'Delta Time (sec)', 'Segment ID', 'GT Num', 'Beam Num',\n",
      "       'Beam Type', 'Latitude (deg)', 'Longitude (deg)', 'UTM Easting (m)',\n",
      "       'UTM Northing (m)', 'UTM Zone', 'UTM Hemisphere', 'Cross-Track (m)',\n",
      "       'Along-Track (m)', 'Height (m HAE)', 'Height (m MSL)', 'Classification',\n",
      "       'Signal Confidence', 'Solar Elevation (deg)'],\n",
      "      dtype='object')\n",
      "Time (sec)               float64\n",
      "Delta Time (sec)         float64\n",
      "Segment ID               float64\n",
      "GT Num                    object\n",
      "Beam Num                   int64\n",
      "Beam Type                 object\n",
      "Latitude (deg)           float64\n",
      "Longitude (deg)          float64\n",
      "UTM Easting (m)          float64\n",
      "UTM Northing (m)         float64\n",
      "UTM Zone                   int64\n",
      "UTM Hemisphere            object\n",
      "Cross-Track (m)          float64\n",
      "Along-Track (m)          float64\n",
      "Height (m HAE)           float64\n",
      "Height (m MSL)           float64\n",
      "Classification             int64\n",
      "Signal Confidence          int64\n",
      "Solar Elevation (deg)    float64\n",
      "dtype: object\n"
     ]
    }
   ],
   "source": [
    "# path_str = input(\"请输入文件路径：\")\n",
    "path_str = \"data/icepyx/2022MaoweiSea/20220105/processed_ATL03_20220105120423_02171407_006_01_gt2l.csv\"\n",
    "data_path = Path(path_str)\n",
    "assert data_path.exists(), \"文件不存在\"\n",
    "\n",
    "\n",
    "df = None\n",
    "\n",
    "with open(data_path, 'r') as f:\n",
    "    df = pd.read_csv(f)\n",
    "    \n",
    "print(df.columns)\n",
    "print(df.dtypes)"
   ]
  },
  {
   "cell_type": "code",
   "execution_count": 60,
   "metadata": {},
   "outputs": [
    {
     "name": "stdout",
     "output_type": "stream",
     "text": [
      "最频繁出现的高度范围是: (-0.6236616442488128, -0.6021758099084309)\n",
      "假设海平面: -0.6129187270786218 m\n"
     ]
    },
    {
     "data": {
      "image/png": "[encoded data removed]",
      "text/plain": [
       "<Figure size 640x480 with 1 Axes>"
      ]
     },
     "metadata": {},
     "output_type": "display_data"
    }
   ],
   "source": [
    "# 选择频率最高的深度为参考海平面\n",
    "heights = df['Height (m MSL)'].values\n",
    "hist, bin_edges = np.histogram(heights, bins='auto')\n",
    "most_frequent_bin = np.argmax(hist)\n",
    "most_frequent_height_range = (bin_edges[most_frequent_bin], bin_edges[most_frequent_bin + 1])\n",
    "print(\"最频繁出现的高度范围是:\", most_frequent_height_range)\n",
    "sea_level = (most_frequent_height_range[0] + most_frequent_height_range[1]) / 2\n",
    "print(f\"假设海平面: {sea_level} m\")\n",
    "\n",
    "# 显示频率直方图\n",
    "plt.hist(heights, bins='auto', alpha=0.7, color='blue', edgecolor='black')\n",
    "plt.show()"
   ]
  }
 ],
 "metadata": {
  "kernelspec": {
   "display_name": ".conda",
   "language": "python",
   "name": "python3"
  },
  "language_info": {
   "codemirror_mode": {
    "name": "ipython",
    "version": 3
   },
   "file_extension": ".py",
   "mimetype": "text/x-python",
   "name": "python",
   "nbconvert_exporter": "python",
   "pygments_lexer": "ipython3",
   "version": "3.10.15"
  }
 },
 "nbformat": 4,
 "nbformat_minor": 2
}
