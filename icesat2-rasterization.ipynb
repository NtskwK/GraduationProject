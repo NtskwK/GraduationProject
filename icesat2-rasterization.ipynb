{
 "cells": [
  {
   "cell_type": "markdown",
   "metadata": {},
   "source": [
    "# 数据栅格化"
   ]
  },
  {
   "cell_type": "code",
   "execution_count": null,
   "metadata": {},
   "outputs": [],
   "source": [
    "from pathlib import Path\n",
    "\n",
    "import pandas as pd\n",
    "\n",
    "from utils.data_io import *"
   ]
  },
  {
   "cell_type": "code",
   "execution_count": 2,
   "metadata": {},
   "outputs": [
    {
     "name": "stdout",
     "output_type": "stream",
     "text": [
      "Index(['Unnamed: 0.1', 'Unnamed: 0', 'Time (sec)', 'Delta Time (sec)',\n",
      "       'Segment ID', 'GT Num', 'Beam Num', 'Beam Type', 'Latitude (deg)',\n",
      "       'Longitude (deg)', 'UTM Easting (m)', 'UTM Northing (m)', 'UTM Zone',\n",
      "       'UTM Hemisphere', 'Cross-Track (m)', 'Along-Track (m)',\n",
      "       'Height (m HAE)', 'Height (m MSL)', 'Classification',\n",
      "       'Signal Confidence', 'Solar Elevation (deg)', 'point_type', 'block'],\n",
      "      dtype='object')\n",
      "\n",
      "-------------------------\n",
      "\n",
      "Index(['Latitude (deg)', 'Longitude (deg)', 'UTM Easting (m)',\n",
      "       'UTM Northing (m)', 'Cross-Track (m)', 'Along-Track (m)',\n",
      "       'Height (m HAE)', 'Height (m MSL)', 'Solar Elevation (deg)',\n",
      "       'point_type'],\n",
      "      dtype='object')\n"
     ]
    }
   ],
   "source": [
    "data_path = Path(\"processed_ATL03_20221230185202_01561807_006_02_gt3r_cut_denoise.csv\")\n",
    "data = get_csv(data_path)\n",
    "\n",
    "print(data.columns)\n",
    "print(\"\\n-------------------------\\n\")\n",
    "# 只选择需要的列\n",
    "data = data[\n",
    "    [\n",
    "        \"Latitude (deg)\",\n",
    "        \"Longitude (deg)\",\n",
    "        \"UTM Easting (m)\",\n",
    "        \"UTM Northing (m)\",\n",
    "        \"Cross-Track (m)\",\n",
    "        \"Along-Track (m)\",\n",
    "        \"Height (m HAE)\",\n",
    "        \"Height (m MSL)\",\n",
    "        \"Solar Elevation (deg)\",\n",
    "        \"point_type\",\n",
    "    ]\n",
    "]\n",
    "\n",
    "print(data.columns)"
   ]
  },
  {
   "cell_type": "code",
   "execution_count": 3,
   "metadata": {},
   "outputs": [],
   "source": [
    "from utils.denoise import PointType, get_normal_distribution\n",
    "from utils.plot import get_plt\n",
    "\n",
    "under_water_point = data.loc[data[\"point_type\"] == PointType.LandSurface.value]\n",
    "\n",
    "block = {}\n",
    "\n",
    "# unit: m\n",
    "block_size = 10\n",
    "\n",
    "for index, point in under_water_point.iterrows():\n",
    "    id = point[\"Along-Track (m)\"] // block_size\n",
    "    id = int(id)\n",
    "    if id not in block:\n",
    "        block[id] = []\n",
    "    block[id].append(point)\n",
    "\n",
    "new_ds = []\n",
    "available_keys = sorted(list(block.keys()))\n",
    "for id in available_keys:\n",
    "    ds = pd.DataFrame(block[id])\n",
    "    if (id + 1) in available_keys:\n",
    "        # 如果块是连续的则扩展窗口\n",
    "        ds = pd.concat([ds, pd.DataFrame(block[id + 1])])\n",
    "\n",
    "    ds[\"point_type\"] = PointType.LandSurface.value\n",
    "    heights = ds[\"Height (m MSL)\"].values\n",
    "    mu, sigma = get_normal_distribution(heights)\n",
    "    if sigma > 1:\n",
    "        ds.loc[\n",
    "            (ds[\"Height (m MSL)\"] < mu - 0.5 * sigma)\n",
    "            | (ds[\"Height (m MSL)\"] > mu + 0.5 * sigma),\n",
    "            \"point_type\",\n",
    "        ] = PointType.Noise.value\n",
    "    new_ds.append(ds)\n",
    "\n",
    "seafloor_point = pd.concat(new_ds)\n",
    "\n",
    "# get_plt(\n",
    "#     seafloor_point, x=\"Along-Track (m)\", y=\"Height (m MSL)\", title=\"underwater point\"\n",
    "# )"
   ]
  },
  {
   "cell_type": "code",
   "execution_count": 4,
   "metadata": {},
   "outputs": [
    {
     "name": "stdout",
     "output_type": "stream",
     "text": [
      "有效的block数量: 311\n",
      "最大连续block的数量: 75\n",
      "最大连续block: [275, 276, 277, 278, 279]...\n"
     ]
    }
   ],
   "source": [
    "blocks = []\n",
    "block_min = 2\n",
    "\n",
    "for id in block.keys():\n",
    "    ds = pd.DataFrame(block[id])\n",
    "    ds = ds.loc[ds[\"point_type\"] == PointType.LandSurface.value]\n",
    "\n",
    "    # icesat-2的激光点间隔是0.7m\n",
    "    # 如果block的点数小于一定值，说明这个block是无效的\n",
    "    if len(ds) < block_min:\n",
    "        continue\n",
    "    else:\n",
    "        blocks.append(id)\n",
    "    \n",
    "print(f\"有效的block数量: {len(blocks)}\")\n",
    "\n",
    "bs = []\n",
    "tmp = []\n",
    "for id in blocks:\n",
    "    if len(tmp) < 1:\n",
    "        tmp.append(id)\n",
    "        continue\n",
    "\n",
    "    if id - tmp[-1] == 1:\n",
    "        tmp.append(id)\n",
    "    else:\n",
    "        bs.append(tmp)\n",
    "        tmp = []\n",
    "        tmp.append(id)\n",
    "\n",
    "select_ids = max(bs, key=len)\n",
    "print(f\"最大连续block的数量: {len(select_ids)}\")\n",
    "print(f\"最大连续block: {select_ids[:5]}...\")"
   ]
  },
  {
   "cell_type": "code",
   "execution_count": 6,
   "metadata": {},
   "outputs": [
    {
     "name": "stdout",
     "output_type": "stream",
     "text": [
      "最大连续block的数量: 119\n",
      "最大连续block: [275, 276, 277, 278, 279]...\n"
     ]
    }
   ],
   "source": [
    "for idx, b in enumerate(bs):\n",
    "    if idx == 0:\n",
    "        continue\n",
    "    if bs[idx][0] - bs[idx - 1][-1] == 2:\n",
    "        if (bs[idx - 1][-1] + 1) in block.keys():\n",
    "            bs[idx] = bs[idx - 1] + [bs[idx - 1][-1] + 1] + bs[idx]\n",
    "\n",
    "select_ids = max(bs, key=len)\n",
    "print(f\"最大连续block的数量: {len(select_ids)}\")\n",
    "print(f\"最大连续block: {select_ids[:5]}...\")"
   ]
  },
  {
   "cell_type": "code",
   "execution_count": 7,
   "metadata": {},
   "outputs": [
    {
     "name": "stdout",
     "output_type": "stream",
     "text": [
      "key_points Along-Track (m):\n",
      "2755.718434\n",
      "2767.936523\n",
      "2770.093916\n",
      "key_points数量: 119\n",
      "Save keypoints_center.csv successfully!\n"
     ]
    },
    {
     "data": {
      "text/plain": [
       "True"
      ]
     },
     "execution_count": 7,
     "metadata": {},
     "output_type": "execute_result"
    }
   ],
   "source": [
    "from utils.anti_rasterization import get_keypoint\n",
    "\n",
    "# 复制data.columns\n",
    "key_points = pd.DataFrame(columns=data.columns)\n",
    "key_points_list = []\n",
    "for id in select_ids:\n",
    "    ds = pd.DataFrame(block[id])\n",
    "    kp = get_keypoint(ds).to_frame().T\n",
    "    key_points_list.append(kp)\n",
    "key_points = pd.concat(key_points_list, ignore_index=True)\n",
    "\n",
    "print(\n",
    "    \"key_points Along-Track (m):\\n\"\n",
    "    + key_points[\"Along-Track (m)\"][:3].to_string(index=False)\n",
    ")\n",
    "print(f\"key_points数量: {len(key_points)}\")\n",
    "\n",
    "save_csv(key_points, \"keypoints\", tag=\"center\", overwrite=True)"
   ]
  },
  {
   "cell_type": "code",
   "execution_count": 8,
   "metadata": {},
   "outputs": [
    {
     "name": "stdout",
     "output_type": "stream",
     "text": [
      "len of key_points: 119\n"
     ]
    },
    {
     "data": {
      "image/png": "[encoded data removed]",
      "text/plain": [
       "<Figure size 640x480 with 2 Axes>"
      ]
     },
     "metadata": {},
     "output_type": "display_data"
    },
    {
     "data": {
      "text/plain": [
       "(<Figure size 640x480 with 2 Axes>,\n",
       " <Axes: title={'center': 'key points'}, xlabel='Along-Track (m)', ylabel='Height (m MSL)'>)"
      ]
     },
     "execution_count": 8,
     "metadata": {},
     "output_type": "execute_result"
    }
   ],
   "source": [
    "print(f\"len of key_points: {len(key_points)}\")\n",
    "get_plt(\n",
    "    key_points,\n",
    "    x=\"Along-Track (m)\",\n",
    "    y=\"Height (m MSL)\",\n",
    "    title=\"key points\",\n",
    "    curve=True,\n",
    "    straight=True,\n",
    "    k=2,\n",
    "    bc_type=\"not-a-knot\",\n",
    "    interpolations=10000,\n",
    ")"
   ]
  }
 ],
 "metadata": {
  "kernelspec": {
   "display_name": ".conda",
   "language": "python",
   "name": "python3"
  },
  "language_info": {
   "codemirror_mode": {
    "name": "ipython",
    "version": 3
   },
   "file_extension": ".py",
   "mimetype": "text/x-python",
   "name": "python",
   "nbconvert_exporter": "python",
   "pygments_lexer": "ipython3",
   "version": "3.10.17"
  }
 },
 "nbformat": 4,
 "nbformat_minor": 2
}
