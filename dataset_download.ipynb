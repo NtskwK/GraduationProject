{
 "cells": [
  {
   "cell_type": "markdown",
   "metadata": {},
   "source": [
    "# 初始化"
   ]
  },
  {
   "cell_type": "code",
   "execution_count": null,
   "metadata": {},
   "outputs": [],
   "source": [
    "import icepyx as ipx\n",
    "from icepyx.core.visualization import Visualize\n",
    "\n",
    "import earthaccess\n",
    "\n",
    "# 尝试登录，并持久化存储认证文件\n",
    "# 尝试登录，并持久化存储认证配置文件\n",
    "earthaccess_auth = earthaccess.login(strategy=\"interactive\", persist=True)\n",
    "\n",
    "\n",
    "download_dir = './data/icepyx'"
   ]
  },
  {
   "cell_type": "markdown",
   "metadata": {},
   "source": [
    "# 查询数据"
   ]
  },
  {
   "cell_type": "code",
   "execution_count": null,
   "metadata": {},
   "outputs": [],
   "source": [
    "# Bounding box\n",
    "bbox=[108, 21, 109, 22]\n",
    "# date range \n",
    "date=list()\n",
    "date.append('2023-04-01')\n",
    "date.append('2023-04-15')"
   ]
  },
  {
   "cell_type": "code",
   "execution_count": null,
   "metadata": {},
   "outputs": [],
   "source": [
    "\n",
    "query_ATL03 = ipx.Query(\n",
    "    # Collection short name\n",
    "    product=\"ATL03\",\n",
    "    spatial_extent=bbox,\n",
    "    date_range=date,\n",
    "    auth = earthaccess_auth\n",
    ")\n",
    "\n",
    "query_ATL08= ipx.Query(\n",
    "    # Collection short name\n",
    "    product=\"ATL08\",\n",
    "    spatial_extent=bbox,\n",
    "    date_range=date,\n",
    "    auth = earthaccess_auth\n",
    ")\n",
    "\n",
    "query = list()\n",
    "query.append(query_ATL03)\n",
    "query.append(query_ATL08)\n",
    "\n",
    "print(query)\n",
    "\n",
    "for q in query:\n",
    "    print(q.product)\n",
    "    print(q.CMRparams)\n",
    "    q.product_all_info()\n",
    "    q.product_summary_info()\n",
    "    \n",
    "    # 不要用vscode内置的notebook\n",
    "    # vis_list = \"ATL06, ATL07, ATL08, ATL10, ATL12, ATL13\".split(\", \")\n",
    "    # if q in vis_list:\n",
    "    #     q.visualize_elevation()\n",
    "    \n",
    "\n",
    "\n",
    "# 不要用vscode内置的notebook\n",
    "# vis = Visualize(product=\"ATL08\", spatial_extent=bbox, date_range=date)\n",
    "\n",
    "# cyclemap, rgtmap = query_ATL08.visualize_elevation()\n",
    "# cyclemap\n",
    "# rgtmap"
   ]
  },
  {
   "cell_type": "markdown",
   "metadata": {},
   "source": [
    "# 数据下载"
   ]
  },
  {
   "cell_type": "code",
   "execution_count": null,
   "metadata": {},
   "outputs": [],
   "source": [
    "# 务必先查看数据查询结果，再执行数据下载\n",
    "query_ATL03.download_granules(download_dir)\n",
    "query_ATL08.download_granules(download_dir)"
   ]
  }
 ],
 "metadata": {
  "kernelspec": {
   "display_name": ".conda",
   "language": "python",
   "name": "python3"
  },
  "language_info": {
   "codemirror_mode": {
    "name": "ipython",
    "version": 3
   },
   "file_extension": ".py",
   "mimetype": "text/x-python",
   "name": "python",
   "nbconvert_exporter": "python",
   "pygments_lexer": "ipython3",
   "version": "3.10.15"
  }
 },
 "nbformat": 4,
 "nbformat_minor": 2
}
