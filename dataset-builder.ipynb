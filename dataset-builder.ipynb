{
 "cells": [
  {
   "cell_type": "code",
   "execution_count": 1,
   "id": "fef2cca5",
   "metadata": {},
   "outputs": [],
   "source": [
    "import os\n",
    "os.environ[\"KMP_DUPLICATE_LIB_OK\"] = \"TRUE\"\n",
    "# 用来解决一些奇怪的错误\n",
    "\n",
    "from pathlib import Path\n",
    "\n",
    "from osgeo import gdal\n",
    "import numpy as np\n",
    "\n",
    "from utils.data_io import get_value_from_raster\n",
    "\n",
    "from utils.data_io import get_csv\n",
    "from utils.property import ICESAT2Properties\n",
    "\n",
    "\n",
    "def get_value_from_raster_gdal(raster_path, longitudes, latitudes, band_indexs=None):\n",
    "    ds = gdal.Open(str(raster_path))\n",
    "    gt = ds.GetGeoTransform()\n",
    "    inv_gt = gdal.InvGeoTransform(gt)\n",
    "    values = []\n",
    "    if band_indexs is None:\n",
    "        band_indexs = list(range(1, ds.RasterCount + 1))\n",
    "    else :\n",
    "        band_indexs = [band_indexs] if isinstance(band_indexs, int) else band_indexs\n",
    "    for band_index in band_indexs:\n",
    "        band = ds.GetRasterBand(band_index)\n",
    "        for lon, lat in zip(longitudes, latitudes):\n",
    "            px, py = gdal.ApplyGeoTransform(inv_gt, lon, lat)\n",
    "            px, py = int(round(px)), int(round(py))\n",
    "            try:\n",
    "                value = band.ReadAsArray(px, py, 1, 1)[0, 0]\n",
    "            except Exception:\n",
    "                value = np.nan\n",
    "            values.append(value)\n",
    "    ds = None\n",
    "    return np.array(values).reshape(len(band_indexs),len(longitudes) )"
   ]
  },
  {
   "cell_type": "code",
   "execution_count": null,
   "id": "f6df0913",
   "metadata": {},
   "outputs": [],
   "source": [
    "data = get_csv(Path(\"keypoints_center.csv\"))\n",
    "# 提取部分数据\n",
    "ds = data[\n",
    "    [\n",
    "        \"Latitude (deg)\",\n",
    "        \"Longitude (deg)\",\n",
    "        \"UTM Easting (m)\",\n",
    "        \"UTM Northing (m)\",\n",
    "        \"Height (m MSL)\",\n",
    "        \"Height (m HAE)\",\n",
    "        ICESAT2Properties.AlongTrack.value,\n",
    "    ]\n",
    "]\n",
    "\n",
    "real_heights = ds.loc[:, \"Height (m MSL)\"].values"
   ]
  },
  {
   "cell_type": "code",
   "execution_count": null,
   "id": "67f6e0a8",
   "metadata": {},
   "outputs": [
    {
     "name": "stdout",
     "output_type": "stream",
     "text": [
      "(12, 119)\n"
     ]
    },
    {
     "name": "stderr",
     "output_type": "stream",
     "text": [
      "e:\\Documents\\CourseStudy\\GraduationProject\\program\\.conda\\lib\\site-packages\\osgeo\\gdal.py:311: FutureWarning: Neither gdal.UseExceptions() nor gdal.DontUseExceptions() has been explicitly called. In GDAL 4.0, exceptions will be enabled by default.\n",
      "  warnings.warn(\n"
     ]
    }
   ],
   "source": [
    "from utils.data_io import reproject2\n",
    "\n",
    "\n",
    "s2a_path = Path(\n",
    "    \"data\\sentinel-2\\subset_1_of_S2A_MSIL2A_20250106T031121_N0511_R075_T49QCD_20250106T061847_s2resampled.tif\"\n",
    ")\n",
    "\n",
    "s2a_wgs84_path = Path(\n",
    "    \"data\\sentinel-2\\subset_1_of_S2A_MSIL2A_20250106T031121_N0511_R075_T49QCD_20250106T061847_s2resampled_wgs84.tif\",\n",
    ")\n",
    "\n",
    "if not s2a_wgs84_path.exists():\n",
    "    reproject2(s2a_path, s2a_wgs84_path, epsg=4326)\n",
    "\n",
    "\n",
    "raster_data = get_value_from_raster_gdal(\n",
    "    s2a_wgs84_path,\n",
    "    ds[\"Longitude (deg)\"].values,\n",
    "    ds[\"Latitude (deg)\"].values,\n",
    ")\n",
    "\n",
    "\n",
    "print(raster_data.shape)"
   ]
  },
  {
   "cell_type": "code",
   "execution_count": 4,
   "id": "40e79718",
   "metadata": {},
   "outputs": [],
   "source": [
    "dem_path = Path(\"data/dem/GMRT_resample.tif\")\n",
    "\n",
    "real_height = []\n",
    "# with rasterio.open(dem_path, mode=\"r\") as src:\n",
    "#     values = get_value_from_raster(\n",
    "#         src, ds[\"Longitude (deg)\"].values, ds[\"Latitude (deg)\"].values, index=1\n",
    "#     )\n",
    "#     real_height.extend(values)\n",
    "\n",
    "real_height = get_value_from_raster_gdal(\n",
    "    dem_path, ds[\"Longitude (deg)\"].values, ds[\"Latitude (deg)\"].values,\n",
    ")"
   ]
  },
  {
   "cell_type": "markdown",
   "id": "98155a5f",
   "metadata": {},
   "source": [
    "# 拼接数据集"
   ]
  },
  {
   "cell_type": "code",
   "execution_count": 5,
   "id": "e7856abd",
   "metadata": {},
   "outputs": [
    {
     "name": "stdout",
     "output_type": "stream",
     "text": [
      "add_data index:['B1', 'B2', 'B3', 'B4', 'B5', 'B6', 'B7', 'B8', 'B8A', 'B9', 'B11', 'B12', 'real_height']\n",
      "Index(['Latitude (deg)', 'Longitude (deg)', 'UTM Easting (m)',\n",
      "       'UTM Northing (m)', 'Height (m MSL)', 'Height (m HAE)',\n",
      "       'Along-Track (m)', 'B1', 'B2', 'B3', 'B4', 'B5', 'B6', 'B7', 'B8',\n",
      "       'B8A', 'B9', 'B11', 'B12', 'real_height'],\n",
      "      dtype='object')\n",
      "shape of ml_data: (119, 20)\n",
      "Overwrite operation cancelled by user.\n"
     ]
    },
    {
     "data": {
      "text/plain": [
       "False"
      ]
     },
     "execution_count": 5,
     "metadata": {},
     "output_type": "execute_result"
    }
   ],
   "source": [
    "from utils.data_io import save_csv\n",
    "\n",
    "\n",
    "add_data = {}\n",
    "\n",
    "for i in range(raster_data.shape[0]):\n",
    "    \"第9波段是8A，没有第10波段\"\n",
    "    i = i + 1\n",
    "    if i < 9:\n",
    "        band_num = str(i)\n",
    "    elif i == 9:\n",
    "        band_num = \"8A\"\n",
    "    elif i == 10:\n",
    "        band_num = \"9\"\n",
    "    elif i > 10:\n",
    "        band_num = str(i)\n",
    "    else:\n",
    "        raise ValueError(\"Unexpected band index\")\n",
    "\n",
    "    add_data[\"B\" + band_num] = raster_data[i - 1, :]\n",
    "\n",
    "add_data[\"real_height\"] = real_heights\n",
    "\n",
    "print(f\"add_data index:{list(add_data.keys())}\")\n",
    "\n",
    "ml_data = ds.assign(**add_data)\n",
    "print(ml_data.columns)\n",
    "\n",
    "# 删除缺失值\n",
    "ml_data = ml_data.dropna()\n",
    "\n",
    "dp = Path(\"dataset.csv\")\n",
    "\n",
    "print(f\"shape of ml_data: {ml_data.shape}\")\n",
    "save_csv(ml_data, data_path=dp, backup=True, overwrite=True)"
   ]
  }
 ],
 "metadata": {
  "kernelspec": {
   "display_name": ".conda",
   "language": "python",
   "name": "python3"
  },
  "language_info": {
   "codemirror_mode": {
    "name": "ipython",
    "version": 3
   },
   "file_extension": ".py",
   "mimetype": "text/x-python",
   "name": "python",
   "nbconvert_exporter": "python",
   "pygments_lexer": "ipython3",
   "version": "3.10.17"
  }
 },
 "nbformat": 4,
 "nbformat_minor": 5
}
