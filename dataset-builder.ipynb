{
 "cells": [
  {
   "cell_type": "code",
   "execution_count": 1,
   "id": "fef2cca5",
   "metadata": {},
   "outputs": [],
   "source": [
    "import os\n",
    "os.environ[\"KMP_DUPLICATE_LIB_OK\"] = \"TRUE\"\n",
    "# 用来解决一些奇怪的错误\n",
    "\n",
    "from pathlib import Path\n",
    "\n",
    "import rasterio\n",
    "from utils.data_io import get_value_from_raster\n",
    "\n",
    "from utils.data_io import get_csv\n",
    "from utils.property import ICESAT2Properties"
   ]
  },
  {
   "cell_type": "code",
   "execution_count": 2,
   "id": "f6df0913",
   "metadata": {},
   "outputs": [],
   "source": [
    "data = get_csv(Path(\"keypoints_center.csv\"))\n",
    "# 提取部分数据\n",
    "ds = data[\n",
    "    [\n",
    "        \"Latitude (deg)\",\n",
    "        \"Longitude (deg)\",\n",
    "        \"UTM Easting (m)\",\n",
    "        \"UTM Northing (m)\",\n",
    "        \"Height (m MSL)\",\n",
    "        \"Height (m HAE)\",\n",
    "        ICESAT2Properties.AlongTrack.value,\n",
    "    ]\n",
    "]"
   ]
  },
  {
   "cell_type": "code",
   "execution_count": 3,
   "id": "67f6e0a8",
   "metadata": {},
   "outputs": [
    {
     "name": "stdout",
     "output_type": "stream",
     "text": [
      "target already exists. Skipping reprojection.\n",
      "EPSG:4326\n",
      "(12, 119)\n"
     ]
    }
   ],
   "source": [
    "from utils.data_io import reproject2\n",
    "\n",
    "\n",
    "s2a_path = Path(\n",
    "    \"data\\sentinel-2\\subset_1_of_S2A_MSIL2A_20250106T031121_N0511_R075_T49QCD_20250106T061847_s2resampled.tif\"\n",
    ")\n",
    "\n",
    "s2a_wgs84_path = Path(\n",
    "    \"data\\sentinel-2\\subset_1_of_S2A_MSIL2A_20250106T031121_N0511_R075_T49QCD_20250106T061847_s2resampled_wgs84.tif\"\n",
    ")\n",
    "\n",
    "# reproject the raster to WGS84\n",
    "try:\n",
    "    reproject2(s2a_path, s2a_wgs84_path, epsg=4326)\n",
    "except FileExistsError:\n",
    "    print(f\"target already exists. Skipping reprojection.\")\n",
    "\n",
    "\n",
    "with rasterio.open(s2a_wgs84_path, mode=\"r\") as src:\n",
    "    raster_data = get_value_from_raster(\n",
    "        src, ds[\"Longitude (deg)\"].values, ds[\"Latitude (deg)\"].values, index=0\n",
    "    )\n",
    "\n",
    "\n",
    "print(raster_data.shape)"
   ]
  },
  {
   "cell_type": "code",
   "execution_count": null,
   "id": "40e79718",
   "metadata": {},
   "outputs": [
    {
     "name": "stdout",
     "output_type": "stream",
     "text": [
      "EPSG:4326\n",
      "lon:109.23270561662244\n",
      "lat:21.40047192743329\n",
      "[np.float32(-1.003813), np.float32(-1.0040649), np.float32(-1.0040954)]\n"
     ]
    }
   ],
   "source": [
    "dem_path = Path(\"data/dem/GMRT_resample.tif\")\n",
    "\n",
    "real_height = []\n",
    "with rasterio.open(dem_path, mode=\"r\") as src:\n",
    "    values = get_value_from_raster(\n",
    "        src, ds[\"Longitude (deg)\"].values, ds[\"Latitude (deg)\"].values, index=1\n",
    "    )\n",
    "    real_height.extend(values)"
   ]
  },
  {
   "cell_type": "markdown",
   "id": "98155a5f",
   "metadata": {},
   "source": [
    "# 拼接数据集"
   ]
  },
  {
   "cell_type": "code",
   "execution_count": null,
   "id": "e7856abd",
   "metadata": {},
   "outputs": [
    {
     "name": "stdout",
     "output_type": "stream",
     "text": [
      "add_data index:['B1', 'B2', 'B3', 'B4', 'B5', 'B6', 'B7', 'B8', 'B8A', 'B9', 'B11', 'B12', 'real_height']\n",
      "Index(['Latitude (deg)', 'Longitude (deg)', 'UTM Easting (m)',\n",
      "       'UTM Northing (m)', 'Height (m MSL)', 'Height (m HAE)',\n",
      "       'Along-Track (m)', 'B1', 'B2', 'B3', 'B4', 'B5', 'B6', 'B7', 'B8',\n",
      "       'B8A', 'B9', 'B11', 'B12', 'real_height'],\n",
      "      dtype='object')\n",
      "shape of ml_data: (119, 20)\n",
      "Save dataset_train.csv successfully!\n",
      "try to backup dataset_train.csv to e:\\Documents\\CourseStudy\\GraduationProject\\program\\log\n",
      "Backup dataset_train.csv to e:\\Documents\\CourseStudy\\GraduationProject\\program\\log\\dataset_train_20250526190048.csv\n"
     ]
    },
    {
     "data": {
      "text/plain": [
       "True"
      ]
     },
     "execution_count": 5,
     "metadata": {},
     "output_type": "execute_result"
    }
   ],
   "source": [
    "from utils.data_io import save_csv\n",
    "\n",
    "\n",
    "add_data = {}\n",
    "\n",
    "for i in range(raster_data.shape[0]):\n",
    "    \"第9波段是8A，没有第10波段\"\n",
    "    i = i + 1\n",
    "    if i < 9:\n",
    "        band_num = str(i)\n",
    "    elif i == 9:\n",
    "        band_num = \"8A\"\n",
    "    elif i == 10:\n",
    "        band_num = \"9\"\n",
    "    elif i > 10:\n",
    "        band_num = str(i)\n",
    "    else:\n",
    "        raise ValueError(\"Unexpected band index\")\n",
    "\n",
    "    add_data[\"B\" + band_num] = raster_data[i - 1, :]\n",
    "\n",
    "add_data[\"real_height\"] = real_height\n",
    "\n",
    "print(f\"add_data index:{list(add_data.keys())}\")\n",
    "\n",
    "ml_data = ds.assign(**add_data)\n",
    "print(ml_data.columns)\n",
    "\n",
    "dp = Path(\"dataset.csv\")\n",
    "\n",
    "print(f\"shape of ml_data: {ml_data.shape}\")\n",
    "save_csv(ml_data, data_path=dp, backup=True, overwrite=True)"
   ]
  }
 ],
 "metadata": {
  "kernelspec": {
   "display_name": ".conda",
   "language": "python",
   "name": "python3"
  },
  "language_info": {
   "codemirror_mode": {
    "name": "ipython",
    "version": 3
   },
   "file_extension": ".py",
   "mimetype": "text/x-python",
   "name": "python",
   "nbconvert_exporter": "python",
   "pygments_lexer": "ipython3",
   "version": "3.10.17"
  }
 },
 "nbformat": 4,
 "nbformat_minor": 5
}
