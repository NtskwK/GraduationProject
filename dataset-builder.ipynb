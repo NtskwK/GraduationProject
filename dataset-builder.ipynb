{
 "cells": [
  {
   "cell_type": "code",
   "execution_count": 2,
   "id": "fef2cca5",
   "metadata": {},
   "outputs": [],
   "source": [
    "from pathlib import Path\n",
    "\n",
    "import rasterio\n",
    "from utils.data_io import get_value_from_raster\n",
    "\n",
    "from utils.data_io import get_csv"
   ]
  },
  {
   "cell_type": "code",
   "execution_count": 3,
   "id": "f6df0913",
   "metadata": {},
   "outputs": [
    {
     "name": "stdout",
     "output_type": "stream",
     "text": [
      "Index(['Unnamed: 0.2', 'Unnamed: 0.1', 'Unnamed: 0', 'Time (sec)',\n",
      "       'Delta Time (sec)', 'Segment ID', 'GT Num', 'Beam Num', 'Beam Type',\n",
      "       'Latitude (deg)', 'Longitude (deg)', 'UTM Easting (m)',\n",
      "       'UTM Northing (m)', 'UTM Zone', 'UTM Hemisphere', 'Cross-Track (m)',\n",
      "       'Along-Track (m)', 'Height (m HAE)', 'Height (m MSL)', 'Classification',\n",
      "       'Signal Confidence', 'Solar Elevation (deg)', 'point_type'],\n",
      "      dtype='object')\n"
     ]
    }
   ],
   "source": [
    "data = get_csv(Path(\"keypoints_.csv\"))\n",
    "print(data.columns)\n",
    "# 提取部分数据\n",
    "ds = data[\n",
    "    [\n",
    "        \"Latitude (deg)\",\n",
    "        \"Longitude (deg)\",\n",
    "        \"UTM Easting (m)\",\n",
    "        \"UTM Northing (m)\",\n",
    "        \"Height (m MSL)\",\n",
    "    ]\n",
    "]"
   ]
  },
  {
   "cell_type": "code",
   "execution_count": 4,
   "id": "67f6e0a8",
   "metadata": {},
   "outputs": [
    {
     "name": "stdout",
     "output_type": "stream",
     "text": [
      "data\\sentinel-2\\subset_1_of_S2A_MSIL2A_20250106T031121_N0511_R075_T49QCD_20250106T061847_s2resampled_wgs84.tif already exists. Skipping reprojection.\n",
      "EPSG:4326\n",
      "(12, 67)\n"
     ]
    }
   ],
   "source": [
    "from utils.data_io import reproject2\n",
    "\n",
    "\n",
    "s2a_path = Path(\n",
    "    \"data\\sentinel-2\\subset_1_of_S2A_MSIL2A_20250106T031121_N0511_R075_T49QCD_20250106T061847_s2resampled.tif\"\n",
    ")\n",
    "\n",
    "s2a_wgs84_path = Path(\n",
    "    \"data\\sentinel-2\\subset_1_of_S2A_MSIL2A_20250106T031121_N0511_R075_T49QCD_20250106T061847_s2resampled_wgs84.tif\"\n",
    ")\n",
    "\n",
    "# reproject the raster to WGS84\n",
    "try:\n",
    "    reproject2(s2a_path, s2a_wgs84_path, epsg=4326)\n",
    "except FileExistsError:\n",
    "    print(f\"{s2a_wgs84_path} already exists. Skipping reprojection.\")\n",
    "\n",
    "\n",
    "with rasterio.open(s2a_wgs84_path, mode=\"r\") as src:\n",
    "    raster_data = get_value_from_raster(\n",
    "        src, ds[\"Longitude (deg)\"].values, ds[\"Latitude (deg)\"].values, index=0\n",
    "    )\n",
    "\n",
    "\n",
    "print(raster_data.shape)"
   ]
  },
  {
   "cell_type": "code",
   "execution_count": 5,
   "id": "40e79718",
   "metadata": {},
   "outputs": [
    {
     "name": "stdout",
     "output_type": "stream",
     "text": [
      "EPSG:4326\n",
      "lon:109.23262797807338\n",
      "lat:21.399754751983647\n",
      "[-1.0057216, -1.0057893, -1.0063345]\n"
     ]
    }
   ],
   "source": [
    "dem_path = Path(\"data/dem/GMRT_resample.tif\")\n",
    "\n",
    "real_height = []\n",
    "with rasterio.open(dem_path, mode=\"r\") as src:\n",
    "    values = get_value_from_raster(\n",
    "        src, ds[\"Longitude (deg)\"].values, ds[\"Latitude (deg)\"].values, index=1\n",
    "    )\n",
    "    real_height.extend(values)\n",
    "\n",
    "\n",
    "\n",
    "print(\"lon:\" + str(ds[\"Longitude (deg)\"].values[0]) + \"\\nlat:\" + str(ds[\"Latitude (deg)\"].values[0]))\n",
    "print(real_height[0:3])"
   ]
  },
  {
   "cell_type": "markdown",
   "id": "98155a5f",
   "metadata": {},
   "source": [
    "# 拼接数据集"
   ]
  },
  {
   "cell_type": "code",
   "execution_count": 9,
   "id": "e7856abd",
   "metadata": {},
   "outputs": [
    {
     "name": "stdout",
     "output_type": "stream",
     "text": [
      "add_data index:['B1', 'B2', 'B3', 'B4', 'B5', 'B6', 'B7', 'B8', 'B9', 'B10', 'B11', 'B12', 'real_height']\n",
      "Index(['Latitude (deg)', 'Longitude (deg)', 'UTM Easting (m)',\n",
      "       'UTM Northing (m)', 'Height (m MSL)', 'B1', 'B2', 'B3', 'B4', 'B5',\n",
      "       'B6', 'B7', 'B8', 'B9', 'B10', 'B11', 'B12', 'real_height'],\n",
      "      dtype='object')\n",
      "dataset_train.csv already exists, will be overwritten!\n"
     ]
    },
    {
     "data": {
      "text/plain": [
       "False"
      ]
     },
     "execution_count": 9,
     "metadata": {},
     "output_type": "execute_result"
    }
   ],
   "source": [
    "from utils.data_io import save_csv\n",
    "\n",
    "\n",
    "add_data = {}\n",
    "\n",
    "for i in range(raster_data.shape[0]):\n",
    "    add_data[\"B\" + str(i + 1)] = raster_data[i, :]\n",
    "\n",
    "add_data[\"real_height\"] = real_height\n",
    "\n",
    "print(f\"add_data index:{list(add_data.keys())}\")\n",
    "\n",
    "ml_data = ds.assign(**add_data)\n",
    "print(ml_data.columns)\n",
    "\n",
    "save_csv(ml_data, data_name=\"dataset\", tag=\"train\", backup=True)"
   ]
  }
 ],
 "metadata": {
  "kernelspec": {
   "display_name": "Python 3",
   "language": "python",
   "name": "python3"
  },
  "language_info": {
   "codemirror_mode": {
    "name": "ipython",
    "version": 3
   },
   "file_extension": ".py",
   "mimetype": "text/x-python",
   "name": "python",
   "nbconvert_exporter": "python",
   "pygments_lexer": "ipython3",
   "version": "3.10.15"
  }
 },
 "nbformat": 4,
 "nbformat_minor": 5
}
